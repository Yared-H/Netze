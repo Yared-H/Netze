{
 "cells": [
  {
   "cell_type": "markdown",
   "metadata": {},
   "source": [
    "# Kompetitive Netze\n",
    "<img style=\"float: right;\" src=\"http://www.neuronalesnetz.de/nnbilder/large/patternassociator_large.gif\" title=\"Schematische Darstellung eines kompetitiven Netzes mit 4 Input- (rot) und 3 Output-Units (grün).\">\n",
    "\n",
    " - Kompetitive Netze laufen normalerweise mit einer Input- und einer Outputschicht, ohne Hidden-layer. <br>Die implementierung von einem oder mehrerer Hidden-layer ist jedoch möglich.\n",
    " - Kompetititive Netze \"lernen\" unüberwacht d.h. sie brauchen keine korrekte Output Vorgabe\n",
    " - Dieses Netz nutzt die \"Kompetitiven Lernregeln\".<br>Die Lernphase findet in 3 Schritten statt:\n",
    "  1. Erregung --> Der Netzinput für jede Output-Unit wird ermittelt. $ netinput_i=\\Sigma_j a_j w_{ij} $\n",
    "  2. Wettbewerb --> Alle Inputs der Output-Units werden Verglichen und die Gewinner Bestimmt.\n",
    "  3. Anpassung der Gewichte --> Nur die Gewichte der \"wettbewerbs Gewinner\" werden angepasst.\n",
    "\n",
    "- Es kann passieren das die Gewichte einer oder mehrerer Outputunits so \"stark\" werden das sie den Wettbewerb gewinnen, unabhänging von ihrer input Information.Dies führt dazu das eine \"sinvolle\" Kategoriesierung nicht statt findet.<br>Um dem vorzubeugen kann man eine Begrenzung der Gewichtsvektoren für die Output units voher vornehmen.\n",
    "\n",
    "### Anwendungsbereiche\n",
    "- Filtern von Redundanzen, Alternative zur Faktorenanalyse\n",
    "- Als vorgeschaltetes Netz für andere Netztypen z.b vor einen \"Pattern Associator\"\n",
    "\n",
    "\n",
    "#### Quellen: http://www.neuronalesnetz.de/netztypen.html , "
   ]
  },
  {
   "cell_type": "markdown",
   "metadata": {},
   "source": []
  }
 ],
 "metadata": {
  "kernelspec": {
   "display_name": "Python 2",
   "language": "python",
   "name": "python2"
  },
  "language_info": {
   "codemirror_mode": {
    "name": "ipython",
    "version": 2
   },
   "file_extension": ".py",
   "mimetype": "text/x-python",
   "name": "python",
   "nbconvert_exporter": "python",
   "pygments_lexer": "ipython2",
   "version": "2.7.16"
  }
 },
 "nbformat": 4,
 "nbformat_minor": 2
}
