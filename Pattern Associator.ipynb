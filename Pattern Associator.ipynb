{
 "cells": [
  {
   "cell_type": "markdown",
   "metadata": {},
   "source": [
    "## Pattern Associator(Unfertige Informations Sammlung)\n"
   ]
  },
  {
   "cell_type": "markdown",
   "metadata": {},
   "source": [
    "Quelle : https://imsc.uni-graz.at/modellwoche/2012/FachArbeitPucher.pdf\n",
    "Pattern Associator steht für ein muster-assoziatives künstliches neuronales Netz, zur Zuordnung von Mustern zu einer Beschreibung und Wiedererkennung dieser Muster (z.B. handgeschriebene Ziffern, Gesichter, etc...). Der Vorteil eines Pattern Associator Netzes liegt im Fehlen der Hidden-Layer. Dadurch können einfache Lernalgorithmen wie die Hebb- oder die Delta-Regel verwendet werden.13\n",
    "\n",
    "Der Input-Layer wird so erzeugt, dass die Musterinformationen (hauptsaächlich Bild-informationen) eingelesen werden können. Danach wird der Output-Layer angelegt, wobei die Anzahl der Output-Units die Anzahl der verschiedenen zu erkennenden Muster dar- stellt. Durch Lernalgorithmen werden die Input-Werte mit den Output-Units assoziiert, das Netzwerk lernt die Muster zu erkennen.\n",
    "\n",
    "Ein Pattern Associator Netz besitzt einige der für neuronale Netze wu ̈nschenswerten Eigenschaften (vgl. Rey und Wender, Neuronale Netze. S. 64):\n",
    "13vgl. Rey und Wender, Neuronale Netze, S. 61/62.\n",
    "20\n",
    "￼\n",
    "• Generalisierung und Erkennen von Prototypen der Kategorie: A ̈hnliche Muster werden zu einer Gruppe kategorisiert. Diese Kategorisierung ermo ̈glicht das korrekte Assoziieren von neuen, a ̈hnlichen Mustern, ohne dabei das Netzwerk mit Lernalgorithmen weiter trainieren zu mu ̈ssen. Das Netz bildet einen Prototypen fu ̈r jede Muster-Kategorie aus, z.B. beinhaltet der Prototyp “Hund” die Eigenschaft “vier Beine”.\n",
    "\n",
    "• Toleranz gegenüber internen und externen Fehlern: Das Netzwerk kann Muster auch erkennen, wenn diese teilweise unkennbar gemacht werden oder wenn ein Unit des Netzwerks fehlerhafte Verbindungen aufweist."
   ]
  },
  {
   "cell_type": "markdown",
   "metadata": {},
   "source": [
    "Quelle: http://www.neuronalesnetz.de/pattern.html\n",
    "        \n",
    "Der Pattern Associator ist ein Netztyp, der Muster erkennen kann, die er zuvor gelernt hat.\n",
    "Dabei lernt das neuronale Netz Assoziationen zwischen verschiedenen Reizpaaren zu bilden (Stichwort \"Klassische Konditionierung\").\n",
    "\n",
    "Beim Pattern Associator existieren keine Hidden-Units, d. h. das neuronale Netz besteht hier lediglich aus zwei Schichten, einer Input-Schicht und\n",
    "einer Output-Schicht (siehe Abbildung 13).\n",
    "\n",
    "Die Trainingsphase - das Lernen verschiedener Reize - kann entweder mit der Hebb-Regel vorgenommen werden oder aber mit der Delta-Regel.\n",
    "\n",
    "\n",
    "Eigenschaften\n",
    "Der Pattern Associator verfügt über eine Reihe wünschenswerter Eigenschaften (vgl. auch das Kapitel Eigenschaften neuronaler Netze):\n",
    "\n",
    "Generalisierung: Wie bei der klassischen Konditionierung erfolgt eine Generalisierung (aber auch eine Diskrimination) verschiedener Reize. \n",
    "Dabei werden ähnliche Reize zur selben Reizgruppe kategorisiert. Beispielsweise kann man verschiedene Hunderassen als Patterns zur Gruppe \"Hunde\"\n",
    "klassifizieren. Ein Problem bei der Generalisierung kann die entstehende \"Übergeneralisierung\" sein.\n",
    "Dabei werden ähnliche Reize, die jedoch unterschiedlichen Kategorien angehören, einer einzigen Kategorie zugeordnet.\n",
    "Zum Beispiel ist es falsch, Forellen, Delphine, Barsche und Heringe der Kategorie \"Fisch\" zuzuordnen.\n",
    "\n",
    "Toleranz gegenüber internen Schäden: Hiermit ist gemeint, dass trotz innerer Schäden des neuronalen Netzes\n",
    "(z. B. durch das Absterben einzelner Neuronen oder Verbindungen zwischen Neuronen) dieses oftmals dennoch den richtigen Output produziert.\n",
    "\n",
    "Toleranz gegenüber externen Schäden: Auch bei unvollständigem oder fehlerhaftem Input gelingt es dem neuronalen Netz, das Muster zu identifizieren \n",
    "(z. B. kann man ein Gesicht meistens auch erkennen selbst wenn die Nase verdeckt ist).\n",
    "\n",
    "Output der zentralen Tendenz bzw. des Prototypen der Kategorie: Bei mehreren gelernten Inputmustern bildet der Pattern Associator\n",
    "einen Prototypen der verschiedenen Muster aus. Eine Eigenschaft, die auch für Menschen typisch ist."
   ]
  }
 ],
 "metadata": {
  "kernelspec": {
   "display_name": "Python 2",
   "language": "python",
   "name": "python2"
  },
  "language_info": {
   "codemirror_mode": {
    "name": "ipython",
    "version": 2
   },
   "file_extension": ".py",
   "mimetype": "text/x-python",
   "name": "python",
   "nbconvert_exporter": "python",
   "pygments_lexer": "ipython2",
   "version": "2.7.16"
  }
 },
 "nbformat": 4,
 "nbformat_minor": 2
}
